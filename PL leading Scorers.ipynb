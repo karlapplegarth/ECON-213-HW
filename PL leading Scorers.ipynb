{
 "cells": [
  {
   "cell_type": "code",
   "execution_count": 51,
   "metadata": {},
   "outputs": [],
   "source": [
    "import pandas as pd\n",
    "from pandas.io.json import json_normalize\n",
    "import numpy as np\n",
    "import scipy as sp\n",
    "import matplotlib.pyplot as plt\n",
    "%matplotlib inline\n",
    "import seaborn as sns"
   ]
  },
  {
   "cell_type": "code",
   "execution_count": 4,
   "metadata": {},
   "outputs": [],
   "source": [
    "import http.client\n",
    "import json"
   ]
  },
  {
   "cell_type": "code",
   "execution_count": 5,
   "metadata": {},
   "outputs": [],
   "source": [
    "import requests"
   ]
  },
  {
   "cell_type": "code",
   "execution_count": 77,
   "metadata": {},
   "outputs": [
    {
     "name": "stdout",
     "output_type": "stream",
     "text": [
      "{'count': 10, 'filters': {'limit': 10}, 'competition': {'id': 2021, 'area': {'id': 2072, 'name': 'England'}, 'name': 'Premier League', 'code': 'PL', 'plan': 'TIER_ONE', 'lastUpdated': '2019-01-30T23:39:42Z'}, 'season': {'id': 151, 'startDate': '2018-08-10', 'endDate': '2019-05-12', 'currentMatchday': 24, 'winner': None}, 'scorers': [{'player': {'id': 3754, 'name': 'Mohamed Salah', 'firstName': 'Mohamed Salah', 'lastName': None, 'dateOfBirth': '1992-06-15', 'countryOfBirth': 'Egypt', 'nationality': 'Egypt', 'position': 'Attacker', 'shirtNumber': 11, 'lastUpdated': '2018-11-25T05:07:31Z'}, 'team': {'id': 64, 'name': 'Liverpool FC'}, 'numberOfGoals': 16}, {'player': {'id': 7801, 'name': 'Pierre-Emerick Aubameyang', 'firstName': 'Pierre-Emerick Emiliano François', 'lastName': None, 'dateOfBirth': '1989-06-18', 'countryOfBirth': 'France', 'nationality': 'Gabon', 'position': 'Attacker', 'shirtNumber': 14, 'lastUpdated': '2018-09-19T05:12:36Z'}, 'team': {'id': 57, 'name': 'Arsenal FC'}, 'numberOfGoals': 15}, {'player': {'id': 8004, 'name': 'Harry Kane', 'firstName': 'Harry', 'lastName': None, 'dateOfBirth': '1993-07-28', 'countryOfBirth': 'England', 'nationality': 'England', 'position': 'Attacker', 'shirtNumber': 10, 'lastUpdated': '2018-11-25T05:14:21Z'}, 'team': {'id': 73, 'name': 'Tottenham Hotspur FC'}, 'numberOfGoals': 14}, {'player': {'id': 7891, 'name': 'Sergio Agüero', 'firstName': 'Sergio Leonel', 'lastName': None, 'dateOfBirth': '1988-06-02', 'countryOfBirth': 'Argentina', 'nationality': 'Argentina', 'position': 'Attacker', 'shirtNumber': 10, 'lastUpdated': '2018-09-19T05:07:19Z'}, 'team': {'id': 65, 'name': 'Manchester City FC'}, 'numberOfGoals': 11}, {'player': {'id': 8251, 'name': 'Callum Wilson', 'firstName': 'Callum', 'lastName': None, 'dateOfBirth': '1992-02-27', 'countryOfBirth': 'England', 'nationality': 'England', 'position': 'Attacker', 'shirtNumber': 13, 'lastUpdated': '2018-11-25T05:14:27Z'}, 'team': {'id': 1044, 'name': 'AFC Bournemouth'}, 'numberOfGoals': 10}, {'player': {'id': 8133, 'name': 'Richarlison', 'firstName': 'Richarlison', 'lastName': None, 'dateOfBirth': '1997-05-10', 'countryOfBirth': 'Brazil', 'nationality': 'Brazil', 'position': 'Attacker', 'shirtNumber': None, 'lastUpdated': '2018-11-25T05:41:19Z'}, 'team': {'id': 62, 'name': 'Everton FC'}, 'numberOfGoals': 10}, {'player': {'id': 3626, 'name': 'Sadio Mané', 'firstName': 'Sadio', 'lastName': None, 'dateOfBirth': '1992-04-10', 'countryOfBirth': 'Senegal', 'nationality': 'Senegal', 'position': 'Midfielder', 'shirtNumber': 10, 'lastUpdated': '2018-11-25T05:07:31Z'}, 'team': {'id': 64, 'name': 'Liverpool FC'}, 'numberOfGoals': 10}, {'player': {'id': 3329, 'name': 'Raheem Sterling', 'firstName': 'Raheem Shaquille', 'lastName': None, 'dateOfBirth': '1994-12-08', 'countryOfBirth': 'Jamaica', 'nationality': 'England', 'position': 'Attacker', 'shirtNumber': 7, 'lastUpdated': '2018-11-25T05:14:20Z'}, 'team': {'id': 65, 'name': 'Manchester City FC'}, 'numberOfGoals': 10}, {'player': {'id': 3445, 'name': 'Aleksandar Mitrović', 'firstName': 'Aleksandar', 'lastName': None, 'dateOfBirth': '1994-09-16', 'countryOfBirth': 'Serbia', 'nationality': 'Serbia', 'position': 'Attacker', 'shirtNumber': 9, 'lastUpdated': '2018-11-25T05:14:19Z'}, 'team': {'id': 63, 'name': 'Fulham FC'}, 'numberOfGoals': 10}, {'player': {'id': 8286, 'name': 'Glenn Murray', 'firstName': 'Glenn', 'lastName': None, 'dateOfBirth': '1983-09-25', 'countryOfBirth': 'England', 'nationality': 'England', 'position': 'Attacker', 'shirtNumber': 17, 'lastUpdated': '2018-09-19T05:12:42Z'}, 'team': {'id': 397, 'name': 'Brighton & Hove Albion FC'}, 'numberOfGoals': 10}]}\n"
     ]
    }
   ],
   "source": [
    "connection = http.client.HTTPConnection('api.football-data.org')\n",
    "headers = { 'X-Auth-Token': 'fe6e84d362e04209a463c57c2b37c997' }\n",
    "connection.request('GET', '/v2/competitions/PL/scorers', None, headers )\n",
    "response = json.loads(connection.getresponse().read().decode())\n",
    "print(response)"
   ]
  },
  {
   "cell_type": "code",
   "execution_count": 76,
   "metadata": {},
   "outputs": [
    {
     "name": "stdout",
     "output_type": "stream",
     "text": [
      "{\n",
      "    \"count\": 10,\n",
      "    \"filters\": {\n",
      "        \"limit\": 10\n",
      "    },\n",
      "    \"competition\": {\n",
      "        \"id\": 2021,\n",
      "        \"area\": {\n",
      "            \"id\": 2072,\n",
      "            \"name\": \"England\"\n",
      "        },\n",
      "        \"name\": \"Premier League\",\n",
      "        \"code\": \"PL\",\n",
      "        \"plan\": \"TIER_ONE\",\n",
      "        \"lastUpdated\": \"2019-01-30T23:39:42Z\"\n",
      "    },\n",
      "    \"season\": {\n",
      "        \"id\": 151,\n",
      "        \"startDate\": \"2018-08-10\",\n",
      "        \"endDate\": \"2019-05-12\",\n",
      "        \"currentMatchday\": 24,\n",
      "        \"winner\": null\n",
      "    },\n",
      "    \"scorers\": [\n",
      "        {\n",
      "            \"player\": {\n",
      "                \"id\": 3754,\n",
      "                \"name\": \"Mohamed Salah\",\n",
      "                \"firstName\": \"Mohamed Salah\",\n",
      "                \"lastName\": null,\n",
      "                \"dateOfBirth\": \"1992-06-15\",\n",
      "                \"countryOfBirth\": \"Egypt\",\n",
      "                \"nationality\": \"Egypt\",\n",
      "                \"position\": \"Attacker\",\n",
      "                \"shirtNumber\": 11,\n",
      "                \"lastUpdated\": \"2018-11-25T05:07:31Z\"\n",
      "            },\n",
      "            \"team\": {\n",
      "                \"id\": 64,\n",
      "                \"name\": \"Liverpool FC\"\n",
      "            },\n",
      "            \"numberOfGoals\": 16\n",
      "        },\n",
      "        {\n",
      "            \"player\": {\n",
      "                \"id\": 7801,\n",
      "                \"name\": \"Pierre-Emerick Aubameyang\",\n",
      "                \"firstName\": \"Pierre-Emerick Emiliano Fran\\u00e7ois\",\n",
      "                \"lastName\": null,\n",
      "                \"dateOfBirth\": \"1989-06-18\",\n",
      "                \"countryOfBirth\": \"France\",\n",
      "                \"nationality\": \"Gabon\",\n",
      "                \"position\": \"Attacker\",\n",
      "                \"shirtNumber\": 14,\n",
      "                \"lastUpdated\": \"2018-09-19T05:12:36Z\"\n",
      "            },\n",
      "            \"team\": {\n",
      "                \"id\": 57,\n",
      "                \"name\": \"Arsenal FC\"\n",
      "            },\n",
      "            \"numberOfGoals\": 15\n",
      "        },\n",
      "        {\n",
      "            \"player\": {\n",
      "                \"id\": 8004,\n",
      "                \"name\": \"Harry Kane\",\n",
      "                \"firstName\": \"Harry\",\n",
      "                \"lastName\": null,\n",
      "                \"dateOfBirth\": \"1993-07-28\",\n",
      "                \"countryOfBirth\": \"England\",\n",
      "                \"nationality\": \"England\",\n",
      "                \"position\": \"Attacker\",\n",
      "                \"shirtNumber\": 10,\n",
      "                \"lastUpdated\": \"2018-11-25T05:14:21Z\"\n",
      "            },\n",
      "            \"team\": {\n",
      "                \"id\": 73,\n",
      "                \"name\": \"Tottenham Hotspur FC\"\n",
      "            },\n",
      "            \"numberOfGoals\": 14\n",
      "        },\n",
      "        {\n",
      "            \"player\": {\n",
      "                \"id\": 7891,\n",
      "                \"name\": \"Sergio Ag\\u00fcero\",\n",
      "                \"firstName\": \"Sergio Leonel\",\n",
      "                \"lastName\": null,\n",
      "                \"dateOfBirth\": \"1988-06-02\",\n",
      "                \"countryOfBirth\": \"Argentina\",\n",
      "                \"nationality\": \"Argentina\",\n",
      "                \"position\": \"Attacker\",\n",
      "                \"shirtNumber\": 10,\n",
      "                \"lastUpdated\": \"2018-09-19T05:07:19Z\"\n",
      "            },\n",
      "            \"team\": {\n",
      "                \"id\": 65,\n",
      "                \"name\": \"Manchester City FC\"\n",
      "            },\n",
      "            \"numberOfGoals\": 11\n",
      "        },\n",
      "        {\n",
      "            \"player\": {\n",
      "                \"id\": 8251,\n",
      "                \"name\": \"Callum Wilson\",\n",
      "                \"firstName\": \"Callum\",\n",
      "                \"lastName\": null,\n",
      "                \"dateOfBirth\": \"1992-02-27\",\n",
      "                \"countryOfBirth\": \"England\",\n",
      "                \"nationality\": \"England\",\n",
      "                \"position\": \"Attacker\",\n",
      "                \"shirtNumber\": 13,\n",
      "                \"lastUpdated\": \"2018-11-25T05:14:27Z\"\n",
      "            },\n",
      "            \"team\": {\n",
      "                \"id\": 1044,\n",
      "                \"name\": \"AFC Bournemouth\"\n",
      "            },\n",
      "            \"numberOfGoals\": 10\n",
      "        },\n",
      "        {\n",
      "            \"player\": {\n",
      "                \"id\": 8133,\n",
      "                \"name\": \"Richarlison\",\n",
      "                \"firstName\": \"Richarlison\",\n",
      "                \"lastName\": null,\n",
      "                \"dateOfBirth\": \"1997-05-10\",\n",
      "                \"countryOfBirth\": \"Brazil\",\n",
      "                \"nationality\": \"Brazil\",\n",
      "                \"position\": \"Attacker\",\n",
      "                \"shirtNumber\": null,\n",
      "                \"lastUpdated\": \"2018-11-25T05:41:19Z\"\n",
      "            },\n",
      "            \"team\": {\n",
      "                \"id\": 62,\n",
      "                \"name\": \"Everton FC\"\n",
      "            },\n",
      "            \"numberOfGoals\": 10\n",
      "        },\n",
      "        {\n",
      "            \"player\": {\n",
      "                \"id\": 3626,\n",
      "                \"name\": \"Sadio Man\\u00e9\",\n",
      "                \"firstName\": \"Sadio\",\n",
      "                \"lastName\": null,\n",
      "                \"dateOfBirth\": \"1992-04-10\",\n",
      "                \"countryOfBirth\": \"Senegal\",\n",
      "                \"nationality\": \"Senegal\",\n",
      "                \"position\": \"Midfielder\",\n",
      "                \"shirtNumber\": 10,\n",
      "                \"lastUpdated\": \"2018-11-25T05:07:31Z\"\n",
      "            },\n",
      "            \"team\": {\n",
      "                \"id\": 64,\n",
      "                \"name\": \"Liverpool FC\"\n",
      "            },\n",
      "            \"numberOfGoals\": 10\n",
      "        },\n",
      "        {\n",
      "            \"player\": {\n",
      "                \"id\": 3329,\n",
      "                \"name\": \"Raheem Sterling\",\n",
      "                \"firstName\": \"Raheem Shaquille\",\n",
      "                \"lastName\": null,\n",
      "                \"dateOfBirth\": \"1994-12-08\",\n",
      "                \"countryOfBirth\": \"Jamaica\",\n",
      "                \"nationality\": \"England\",\n",
      "                \"position\": \"Attacker\",\n",
      "                \"shirtNumber\": 7,\n",
      "                \"lastUpdated\": \"2018-11-25T05:14:20Z\"\n",
      "            },\n",
      "            \"team\": {\n",
      "                \"id\": 65,\n",
      "                \"name\": \"Manchester City FC\"\n",
      "            },\n",
      "            \"numberOfGoals\": 10\n",
      "        },\n",
      "        {\n",
      "            \"player\": {\n",
      "                \"id\": 3445,\n",
      "                \"name\": \"Aleksandar Mitrovi\\u0107\",\n",
      "                \"firstName\": \"Aleksandar\",\n",
      "                \"lastName\": null,\n",
      "                \"dateOfBirth\": \"1994-09-16\",\n",
      "                \"countryOfBirth\": \"Serbia\",\n",
      "                \"nationality\": \"Serbia\",\n",
      "                \"position\": \"Attacker\",\n",
      "                \"shirtNumber\": 9,\n",
      "                \"lastUpdated\": \"2018-11-25T05:14:19Z\"\n",
      "            },\n",
      "            \"team\": {\n",
      "                \"id\": 63,\n",
      "                \"name\": \"Fulham FC\"\n",
      "            },\n",
      "            \"numberOfGoals\": 10\n",
      "        },\n",
      "        {\n",
      "            \"player\": {\n",
      "                \"id\": 8286,\n",
      "                \"name\": \"Glenn Murray\",\n",
      "                \"firstName\": \"Glenn\",\n",
      "                \"lastName\": null,\n",
      "                \"dateOfBirth\": \"1983-09-25\",\n",
      "                \"countryOfBirth\": \"England\",\n",
      "                \"nationality\": \"England\",\n",
      "                \"position\": \"Attacker\",\n",
      "                \"shirtNumber\": 17,\n",
      "                \"lastUpdated\": \"2018-09-19T05:12:42Z\"\n",
      "            },\n",
      "            \"team\": {\n",
      "                \"id\": 397,\n",
      "                \"name\": \"Brighton & Hove Albion FC\"\n",
      "            },\n",
      "            \"numberOfGoals\": 10\n",
      "        }\n",
      "    ]\n",
      "}\n"
     ]
    }
   ],
   "source": [
    "print(json.dumps(response,indent=4))"
   ]
  },
  {
   "cell_type": "code",
   "execution_count": 78,
   "metadata": {},
   "outputs": [
    {
     "name": "stdout",
     "output_type": "stream",
     "text": [
      "   numberOfGoals player.countryOfBirth player.dateOfBirth  \\\n",
      "0             16                 Egypt         1992-06-15   \n",
      "1             15                France         1989-06-18   \n",
      "2             14               England         1993-07-28   \n",
      "3             11             Argentina         1988-06-02   \n",
      "4             10               England         1992-02-27   \n",
      "5             10                Brazil         1997-05-10   \n",
      "6             10               Senegal         1992-04-10   \n",
      "7             10               Jamaica         1994-12-08   \n",
      "8             10                Serbia         1994-09-16   \n",
      "9             10               England         1983-09-25   \n",
      "\n",
      "                   player.firstName  player.id player.lastName  \\\n",
      "0                     Mohamed Salah       3754            None   \n",
      "1  Pierre-Emerick Emiliano François       7801            None   \n",
      "2                             Harry       8004            None   \n",
      "3                     Sergio Leonel       7891            None   \n",
      "4                            Callum       8251            None   \n",
      "5                       Richarlison       8133            None   \n",
      "6                             Sadio       3626            None   \n",
      "7                  Raheem Shaquille       3329            None   \n",
      "8                        Aleksandar       3445            None   \n",
      "9                             Glenn       8286            None   \n",
      "\n",
      "     player.lastUpdated                player.name player.nationality  \\\n",
      "0  2018-11-25T05:07:31Z              Mohamed Salah              Egypt   \n",
      "1  2018-09-19T05:12:36Z  Pierre-Emerick Aubameyang              Gabon   \n",
      "2  2018-11-25T05:14:21Z                 Harry Kane            England   \n",
      "3  2018-09-19T05:07:19Z              Sergio Agüero          Argentina   \n",
      "4  2018-11-25T05:14:27Z              Callum Wilson            England   \n",
      "5  2018-11-25T05:41:19Z                Richarlison             Brazil   \n",
      "6  2018-11-25T05:07:31Z                 Sadio Mané            Senegal   \n",
      "7  2018-11-25T05:14:20Z            Raheem Sterling            England   \n",
      "8  2018-11-25T05:14:19Z        Aleksandar Mitrović             Serbia   \n",
      "9  2018-09-19T05:12:42Z               Glenn Murray            England   \n",
      "\n",
      "  player.position  player.shirtNumber  team.id                  team.name  \n",
      "0        Attacker                11.0       64               Liverpool FC  \n",
      "1        Attacker                14.0       57                 Arsenal FC  \n",
      "2        Attacker                10.0       73       Tottenham Hotspur FC  \n",
      "3        Attacker                10.0       65         Manchester City FC  \n",
      "4        Attacker                13.0     1044            AFC Bournemouth  \n",
      "5        Attacker                 NaN       62                 Everton FC  \n",
      "6      Midfielder                10.0       64               Liverpool FC  \n",
      "7        Attacker                 7.0       65         Manchester City FC  \n",
      "8        Attacker                 9.0       63                  Fulham FC  \n",
      "9        Attacker                17.0      397  Brighton & Hove Albion FC  \n"
     ]
    }
   ],
   "source": [
    "df = pd.DataFrame.from_dict(json_normalize(response['scorers']), orient='columns')\n",
    "print(df)"
   ]
  },
  {
   "cell_type": "code",
   "execution_count": 72,
   "metadata": {},
   "outputs": [
    {
     "name": "stdout",
     "output_type": "stream",
     "text": [
      "   numberOfGoals                  player.firstName\n",
      "0             16                     Mohamed Salah\n",
      "1             15  Pierre-Emerick Emiliano François\n",
      "2             14                             Harry\n",
      "3             11                     Sergio Leonel\n",
      "4             10                            Callum\n",
      "5             10                       Richarlison\n",
      "6             10                             Sadio\n",
      "7             10                  Raheem Shaquille\n",
      "8             10                        Aleksandar\n",
      "9             10                             Glenn\n"
     ]
    }
   ],
   "source": [
    "scorers = df[['numberOfGoals','player.firstName']]\n",
    "print (scorers)"
   ]
  },
  {
   "cell_type": "code",
   "execution_count": 71,
   "metadata": {},
   "outputs": [
    {
     "name": "stdout",
     "output_type": "stream",
     "text": [
      "   goals                              name\n",
      "0     16                     Mohamed Salah\n",
      "1     15  Pierre-Emerick Emiliano François\n",
      "2     14                             Harry\n",
      "3     11                     Sergio Leonel\n",
      "4     10                            Callum\n",
      "5     10                       Richarlison\n",
      "6     10                             Sadio\n",
      "7     10                  Raheem Shaquille\n",
      "8     10                        Aleksandar\n",
      "9     10                             Glenn\n"
     ]
    }
   ],
   "source": [
    "scorer_df = scorers.rename(columns={'numberOfGoals':'goals', 'player.firstName':'name'})\n",
    "print(scorer_df)"
   ]
  },
  {
   "cell_type": "code",
   "execution_count": 70,
   "metadata": {},
   "outputs": [
    {
     "data": {
      "text/plain": [
       "(array([0, 1, 2, 3, 4, 5, 6, 7, 8, 9]), <a list of 10 Text xticklabel objects>)"
      ]
     },
     "execution_count": 70,
     "metadata": {},
     "output_type": "execute_result"
    },
    {
     "data": {
      "image/png": "[encoded data removed]",
      "text/plain": [
       "<Figure size 432x288 with 1 Axes>"
      ]
     },
     "metadata": {
      "needs_background": "light"
     },
     "output_type": "display_data"
    }
   ],
   "source": [
    "sns.barplot(scorer_df.name, scorer_df.goals)\n",
    "plt.title('Goals Scored by Player')\n",
    "plt.xticks(rotation=90)"
   ]
  },
  {
   "cell_type": "code",
   "execution_count": null,
   "metadata": {},
   "outputs": [],
   "source": []
  }
 ],
 "metadata": {
  "kernelspec": {
   "display_name": "Python 3",
   "language": "python",
   "name": "python3"
  },
  "language_info": {
   "codemirror_mode": {
    "name": "ipython",
    "version": 3
   },
   "file_extension": ".py",
   "mimetype": "text/x-python",
   "name": "python",
   "nbconvert_exporter": "python",
   "pygments_lexer": "ipython3",
   "version": "3.7.1"
  }
 },
 "nbformat": 4,
 "nbformat_minor": 2
}
