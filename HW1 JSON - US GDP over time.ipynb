{
 "cells": [
  {
   "cell_type": "code",
   "execution_count": 1,
   "metadata": {},
   "outputs": [],
   "source": [
    "import pandas as pd\n",
    "from pandas.io.json import json_normalize\n",
    "import numpy as np\n",
    "import scipy as sp\n",
    "import matplotlib.pyplot as plt\n",
    "%matplotlib inline\n",
    "import seaborn as sns\n",
    "#After importing everything necessary, I am ready to begin"
   ]
  },
  {
   "cell_type": "code",
   "execution_count": 2,
   "metadata": {},
   "outputs": [
    {
     "name": "stdout",
     "output_type": "stream",
     "text": [
      "    change-chained  change-current  date  level-chained  level-current\n",
      "0             -6.4           -16.0  1930          966.7           92.2\n",
      "1            -12.9           -23.1  1931          904.8           77.4\n",
      "2             -1.3            -4.0  1932          788.2           59.5\n",
      "3             10.8            16.9  1933          778.3           57.2\n",
      "4              8.9            11.1  1934          862.2           66.8\n",
      "5             12.9            14.3  1935          939.0           74.3\n",
      "6              5.1             9.6  1936         1060.5           84.9\n",
      "7             -3.3            -6.1  1937         1114.6           93.0\n",
      "8              8.0             7.0  1938         1077.7           87.4\n",
      "9              8.8            10.1  1939         1163.6           93.5\n",
      "10            17.7            25.7  1940         1266.1          102.9\n",
      "11            18.9            28.3  1941         1490.3          129.4\n",
      "12            17.0            22.4  1942         1771.8          166.0\n",
      "13             8.0            10.5  1943         2073.7          203.1\n",
      "14            -1.0             1.6  1944         2239.4          224.6\n",
      "15           -11.6            -0.2  1945         2217.8          228.2\n",
      "16            -1.1             9.7  1946         1960.9          227.8\n",
      "17             4.1             9.9  1947         1939.4          249.9\n",
      "18            -0.5            -0.7  1948         2020.0          274.8\n",
      "19             8.7            10.0  1949         2008.9          272.8\n",
      "20             8.1            15.7  1950         2184.0          300.2\n",
      "21             4.1             5.9  1951         2360.0          347.3\n",
      "22             4.7             6.0  1952         2456.1          367.7\n",
      "23            -0.6             0.4  1953         2571.4          389.7\n",
      "24             7.1             9.0  1954         2556.9          391.1\n",
      "25             2.1             5.6  1955         2739.0          426.2\n",
      "26             2.1             5.5  1956         2797.4          450.1\n",
      "27            -0.7             1.5  1957         2856.3          474.9\n",
      "28             6.9             8.4  1958         2835.3          482.0\n",
      "29             2.6             4.0  1959         3031.0          522.5\n",
      "..             ...             ...   ...            ...            ...\n",
      "56             3.5             6.1  1986         7860.5         4590.2\n",
      "57             4.2             7.9  1987         8132.6         4870.2\n",
      "58             3.7             7.7  1988         8474.5         5252.6\n",
      "59             1.9             5.7  1989         8786.4         5657.7\n",
      "60            -0.1             3.3  1990         8955.0         5979.6\n",
      "61             3.6             5.9  1991         8948.4         6174.0\n",
      "62             2.7             5.2  1992         9266.6         6539.3\n",
      "63             4.0             6.3  1993         9521.0         6878.7\n",
      "64             2.7             4.9  1994         9905.4         7308.8\n",
      "65             3.8             5.7  1995        10174.8         7664.1\n",
      "66             4.5             6.3  1996        10561.0         8100.2\n",
      "67             4.5             5.6  1997        11034.9         8608.5\n",
      "68             4.7             6.3  1998        11525.9         9089.2\n",
      "69             4.1             6.5  1999        12065.9         9660.6\n",
      "70             1.0             3.3  2000        12559.7        10284.8\n",
      "71             1.8             3.3  2001        12682.2        10621.8\n",
      "72             2.8             4.9  2002        12908.8        10977.5\n",
      "73             3.8             6.6  2003        13271.1        11510.7\n",
      "74             3.3             6.7  2004        13773.5        12274.9\n",
      "75             2.7             5.8  2005        14234.2        13093.7\n",
      "76             1.8             4.5  2006        14613.8        13855.9\n",
      "77            -0.3             1.7  2007        14873.7        14477.6\n",
      "78            -2.8            -2.0  2008        14830.4        14718.6\n",
      "79             2.5             3.8  2009        14418.7        14418.7\n",
      "80             1.6             3.7  2010        14783.8        14964.4\n",
      "81             2.2             4.1  2011        15020.6        15517.9\n",
      "82             1.7             3.3  2012        15354.6        16155.3\n",
      "83             2.6             4.4  2013        15612.2        16691.5\n",
      "84             2.9             4.0  2014        16013.3        17427.6\n",
      "85             1.5             2.8  2015        16471.5        18120.7\n",
      "\n",
      "[86 rows x 5 columns]\n"
     ]
    }
   ],
   "source": [
    "#I found an online url with JSON data and need to read it in\n",
    "url = 'https://pkgstore.datahub.io/core/gdp-us/year_json/data/37295f010ae077399baf63038818f935/year_json.json'\n",
    "\n",
    "df = pd.read_json(url, orient = 'columns')\n",
    "print(df)"
   ]
  },
  {
   "cell_type": "code",
   "execution_count": 4,
   "metadata": {},
   "outputs": [
    {
     "name": "stdout",
     "output_type": "stream",
     "text": [
      "    date  level-current\n",
      "0   1930           92.2\n",
      "1   1931           77.4\n",
      "2   1932           59.5\n",
      "3   1933           57.2\n",
      "4   1934           66.8\n",
      "5   1935           74.3\n",
      "6   1936           84.9\n",
      "7   1937           93.0\n",
      "8   1938           87.4\n",
      "9   1939           93.5\n",
      "10  1940          102.9\n",
      "11  1941          129.4\n",
      "12  1942          166.0\n",
      "13  1943          203.1\n",
      "14  1944          224.6\n",
      "15  1945          228.2\n",
      "16  1946          227.8\n",
      "17  1947          249.9\n",
      "18  1948          274.8\n",
      "19  1949          272.8\n",
      "20  1950          300.2\n",
      "21  1951          347.3\n",
      "22  1952          367.7\n",
      "23  1953          389.7\n",
      "24  1954          391.1\n",
      "25  1955          426.2\n",
      "26  1956          450.1\n",
      "27  1957          474.9\n",
      "28  1958          482.0\n",
      "29  1959          522.5\n",
      "..   ...            ...\n",
      "56  1986         4590.2\n",
      "57  1987         4870.2\n",
      "58  1988         5252.6\n",
      "59  1989         5657.7\n",
      "60  1990         5979.6\n",
      "61  1991         6174.0\n",
      "62  1992         6539.3\n",
      "63  1993         6878.7\n",
      "64  1994         7308.8\n",
      "65  1995         7664.1\n",
      "66  1996         8100.2\n",
      "67  1997         8608.5\n",
      "68  1998         9089.2\n",
      "69  1999         9660.6\n",
      "70  2000        10284.8\n",
      "71  2001        10621.8\n",
      "72  2002        10977.5\n",
      "73  2003        11510.7\n",
      "74  2004        12274.9\n",
      "75  2005        13093.7\n",
      "76  2006        13855.9\n",
      "77  2007        14477.6\n",
      "78  2008        14718.6\n",
      "79  2009        14418.7\n",
      "80  2010        14964.4\n",
      "81  2011        15517.9\n",
      "82  2012        16155.3\n",
      "83  2013        16691.5\n",
      "84  2014        17427.6\n",
      "85  2015        18120.7\n",
      "\n",
      "[86 rows x 2 columns]\n"
     ]
    }
   ],
   "source": [
    "#Once the data is read in, I need to create a new datafram with only data I want\n",
    "gdp = df[['date','level-current']]\n",
    "print(gdp)"
   ]
  },
  {
   "cell_type": "code",
   "execution_count": 5,
   "metadata": {},
   "outputs": [
    {
     "name": "stdout",
     "output_type": "stream",
     "text": [
      "    year      GDP\n",
      "0   1930     92.2\n",
      "1   1931     77.4\n",
      "2   1932     59.5\n",
      "3   1933     57.2\n",
      "4   1934     66.8\n",
      "5   1935     74.3\n",
      "6   1936     84.9\n",
      "7   1937     93.0\n",
      "8   1938     87.4\n",
      "9   1939     93.5\n",
      "10  1940    102.9\n",
      "11  1941    129.4\n",
      "12  1942    166.0\n",
      "13  1943    203.1\n",
      "14  1944    224.6\n",
      "15  1945    228.2\n",
      "16  1946    227.8\n",
      "17  1947    249.9\n",
      "18  1948    274.8\n",
      "19  1949    272.8\n",
      "20  1950    300.2\n",
      "21  1951    347.3\n",
      "22  1952    367.7\n",
      "23  1953    389.7\n",
      "24  1954    391.1\n",
      "25  1955    426.2\n",
      "26  1956    450.1\n",
      "27  1957    474.9\n",
      "28  1958    482.0\n",
      "29  1959    522.5\n",
      "..   ...      ...\n",
      "56  1986   4590.2\n",
      "57  1987   4870.2\n",
      "58  1988   5252.6\n",
      "59  1989   5657.7\n",
      "60  1990   5979.6\n",
      "61  1991   6174.0\n",
      "62  1992   6539.3\n",
      "63  1993   6878.7\n",
      "64  1994   7308.8\n",
      "65  1995   7664.1\n",
      "66  1996   8100.2\n",
      "67  1997   8608.5\n",
      "68  1998   9089.2\n",
      "69  1999   9660.6\n",
      "70  2000  10284.8\n",
      "71  2001  10621.8\n",
      "72  2002  10977.5\n",
      "73  2003  11510.7\n",
      "74  2004  12274.9\n",
      "75  2005  13093.7\n",
      "76  2006  13855.9\n",
      "77  2007  14477.6\n",
      "78  2008  14718.6\n",
      "79  2009  14418.7\n",
      "80  2010  14964.4\n",
      "81  2011  15517.9\n",
      "82  2012  16155.3\n",
      "83  2013  16691.5\n",
      "84  2014  17427.6\n",
      "85  2015  18120.7\n",
      "\n",
      "[86 rows x 2 columns]\n"
     ]
    }
   ],
   "source": [
    "#The column names in this dataframe are cumbersome to work with, so I need to rename the columns\n",
    "gdp_final = gdp.rename(columns={'date':'year','level-current':'GDP'})\n",
    "print(gdp_final)"
   ]
  },
  {
   "cell_type": "code",
   "execution_count": 11,
   "metadata": {},
   "outputs": [
    {
     "data": {
      "text/plain": [
       "Text(0.5, 1.0, 'US GDP Growth in 2009 dollars (millions)')"
      ]
     },
     "execution_count": 11,
     "metadata": {},
     "output_type": "execute_result"
    },
    {
     "data": {
      "image/png": "[encoded data removed]",
      "text/plain": [
       "<Figure size 432x288 with 1 Axes>"
      ]
     },
     "metadata": {
      "needs_background": "light"
     },
     "output_type": "display_data"
    }
   ],
   "source": [
    "#Now that I have the exact data I want to analyze, I can create a line graph of how US GDP has grown every year\n",
    "sns.lineplot(gdp_final.year, gdp_final.GDP)\n",
    "plt.title('US GDP Growth in 2009 dollars (millions)')"
   ]
  },
  {
   "cell_type": "code",
   "execution_count": null,
   "metadata": {},
   "outputs": [],
   "source": []
  }
 ],
 "metadata": {
  "kernelspec": {
   "display_name": "Python 3",
   "language": "python",
   "name": "python3"
  },
  "language_info": {
   "codemirror_mode": {
    "name": "ipython",
    "version": 3
   },
   "file_extension": ".py",
   "mimetype": "text/x-python",
   "name": "python",
   "nbconvert_exporter": "python",
   "pygments_lexer": "ipython3",
   "version": "3.7.1"
  }
 },
 "nbformat": 4,
 "nbformat_minor": 2
}
